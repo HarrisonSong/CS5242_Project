{
 "cells": [
  {
   "cell_type": "code",
   "execution_count": null,
   "metadata": {},
   "outputs": [],
   "source": [
    "import numpy\n",
    "from keras.datasets import imdb\n",
    "from keras.models import Sequential, Model\n",
    "from keras.layers import Dense, TimeDistributed, Flatten\n",
    "from keras.layers import LSTM, Input, Dropout, MaxPooling1D, Conv1D\n",
    "from keras.layers.embeddings import Embedding\n",
    "from keras.preprocessing import sequence\n",
    "from keras.callbacks import ModelCheckpoint, ReduceLROnPlateau\n",
    "from keras import *\n",
    "from keras.layers import *\n",
    "from keras import regularizers\n",
    "import matplotlib.pyplot as plt\n",
    "import numpy as np\n",
    "import pandas as pd\n",
    "from keras.preprocessing import image\n",
    "from keras.models import Model\n",
    "from keras.layers import Input, Dense\n",
    "from keras.optimizers import SGD, RMSprop, Adam\n",
    "from keras.callbacks import LearningRateScheduler, TensorBoard\n",
    "from sklearn.neural_network import MLPClassifier\n",
    "from sklearn.ensemble import GradientBoostingClassifier\n",
    "\n",
    "# fix random seed for reproducibility\n",
    "filepath=\"cnn2para.hdf5\"\n",
    "checkpoint = ModelCheckpoint(filepath, monitor='val_acc', verbose=1, save_best_only=True, mode='max')\n",
    "learning_rate_reduction = ReduceLROnPlateau(monitor='acc',\n",
    "                                            patience=5,\n",
    "                                            verbose=1,\n",
    "                                            factor=0.5,\n",
    "                                            min_lr=0.00001)\n",
    "numpy.random.seed(7)\n",
    "df_train = pd.read_csv(\"train.csv\",header=None,delimiter=',',dtype='float64',names=list(range(4096))).fillna(0)\n",
    "X_test = pd.read_csv(\"test.csv\",header=None,delimiter=',',dtype='float64',names=list(range(4096))).fillna(0)\n",
    "X_train = df_train.get_values()\n",
    "df_label = pd.read_csv(\"train_label.csv\",delimiter=',')\n",
    "Y_train = df_label['category'].get_values()\n",
    "Y_train = Y_train.reshape(-1,1)"
   ]
  },
  {
   "cell_type": "code",
   "execution_count": null,
   "metadata": {},
   "outputs": [],
   "source": [
    "top_words = 256\n",
    "max_review_length = 4096\n",
    "embedding_vecor_length = 8\n",
    "\n",
    "# create the model\n",
    "x = Input(shape = (max_review_length, ))\n",
    "y = Embedding(top_words, embedding_vecor_length, input_length=max_review_length)(x)\n",
    "y = Conv1D(filters=128, kernel_size=2, padding='valid', activation='relu')(y)\n",
    "y = MaxPooling1D(pool_size=2)(y)\n",
    "y = Dropout(0.5)(y)\n",
    "y = Conv1D(filters=64, kernel_size=2, padding='valid', activation='relu')(y)\n",
    "y = MaxPooling1D(pool_size=2)(y)\n",
    "y = Dropout(0.5)(y)\n",
    "y = Conv1D(filters=32, kernel_size=2, padding='valid', activation='relu')(y)\n",
    "y = MaxPooling1D(pool_size=2)(y)\n",
    "y = Dropout(0.5)(y)\n",
    "y = Conv1D(filters=16, kernel_size=2, padding='valid', activation='relu')(y)\n",
    "y = MaxPooling1D(pool_size=2)(y)\n",
    "y = Dropout(0.5)(y)\n",
    "\n",
    "\n",
    "y = Flatten()(y)\n",
    "y = Dense(128, activation='relu')(y)\n",
    "# y = Dropout(0.5)(y)\n",
    "y = Dense(1, activation='sigmoid')(y)\n",
    "model = Model(inputs=x, outputs=y)\n",
    "model.compile(loss='binary_crossentropy', optimizer='adam', metrics=['mse', 'accuracy'])\n",
    "model.summary()"
   ]
  },
  {
   "cell_type": "code",
   "execution_count": null,
   "metadata": {},
   "outputs": [],
   "source": [
    "model.fit(X_train, Y_train, nb_epoch=35, batch_size=512, verbose=1, callbacks = [learning_rate_reduction])\n",
    "\n",
    "# Final evaluation of the model\n",
    "y=model.predict(X_test, batch_size=None, verbose=0, steps=None)\n",
    "s=np.arange(y.shape[0])\n",
    "a= np.zeros((y.shape[0], 2))\n",
    "a= np.vstack([s,y.reshape(-1)])\n",
    "np.savetxt(\"out.csv\", a.T, delimiter=',', fmt='%i,%f', header=\"sample_id, malware\", comments=\"\")"
   ]
  }
 ],
 "metadata": {
  "kernelspec": {
   "display_name": "Python 3",
   "language": "python",
   "name": "python3"
  },
  "language_info": {
   "codemirror_mode": {
    "name": "ipython",
    "version": 3
   },
   "file_extension": ".py",
   "mimetype": "text/x-python",
   "name": "python",
   "nbconvert_exporter": "python",
   "pygments_lexer": "ipython3",
   "version": "3.6.3"
  }
 },
 "nbformat": 4,
 "nbformat_minor": 2
}
