{
 "cells": [
  {
   "cell_type": "code",
   "execution_count": null,
   "metadata": {},
   "outputs": [],
   "source": [
    "from keras.layers import Embedding, ELU, Dropout, Flatten, Input, Dense, BatchNormalization, Conv1D, MaxPooling1D, LSTM, CuDNNLSTM\n",
    "from keras.layers import concatenate, multiply, Bidirectional\n",
    "from keras.models import Sequential\n",
    "from keras.layers import TimeDistributed, Reshape, RepeatVector, Lambda, Activation\n",
    "from keras.regularizers import l2, l1_l2\n",
    "from keras.optimizers import Adam\n",
    "from keras.callbacks import EarlyStopping\n",
    "from keras.utils.np_utils import to_categorical\n",
    "from keras import backend as K\n",
    "from keras import Model\n",
    "from keras.callbacks import LearningRateScheduler\n",
    "\n",
    "import pandas as pd\n",
    "import numpy as np\n",
    "\n",
    "data = pd.read_csv('train.csv',header=None,dtype='float',names=list(range(4096)))\n",
    "test = pd.read_csv('test.csv',header=None,dtype='float',names=list(range(4096)))\n",
    "label = pd.read_csv('train_label.csv')['category'].values.reshape(-1, 1)"
   ]
  },
  {
   "cell_type": "code",
   "execution_count": null,
   "metadata": {},
   "outputs": [],
   "source": [
    "maxlen=4096\n",
    "embed_size=64\n",
    "lstm_layer_size = 100\n",
    "num_layers = 1\n",
    "\n",
    "model = Sequential()\n",
    "model.add(Embedding(256, embed_size, input_length=maxlen, embeddings_regularizer=l2(1e-4)))\n",
    "model.add(Dropout(0.5))\n",
    "\n",
    "for l in range(0, num_layers - 1):\n",
    "    model.add(Bidirectional(CuDNNLSTM(lstm_layer_size, kernel_regularizer=l2(1e-5), recurrent_regularizer=l2(1e-5), return_sequences=True)))\n",
    "    model.add(Dropout(0.5))\n",
    "model.add(Bidirectional(CuDNNLSTM(lstm_layer_size, kernel_regularizer=l2(1e-5), recurrent_regularizer=l2(1e-5), return_sequences=True)))\n",
    "model.add(Dropout(0.5))\n",
    "\n",
    "model.add(Flatten())\n",
    "model.add(Dense(1, activation='sigmoid', name='loss_out'))\n",
    "\n",
    "def scheduler(epoch):\n",
    "    if epoch%1==0 and epoch!=0:\n",
    "        lr = K.get_value(model.optimizer.lr)\n",
    "        K.set_value(model.optimizer.lr, lr*.5)\n",
    "        print(\"lr changed to {}\".format(lr*.5))\n",
    "    return K.get_value(model.optimizer.lr)\n",
    "\n",
    "lr_decay = LearningRateScheduler(scheduler)\n",
    "\n",
    "optimizer = Adam(lr=0.004, clipnorm=1.0)\n",
    "model.compile(optimizer, loss='binary_crossentropy', metrics=['binary_accuracy'])\n",
    "model.summary()"
   ]
  },
  {
   "cell_type": "code",
   "execution_count": null,
   "metadata": {},
   "outputs": [],
   "source": [
    "es = EarlyStopping(monitor='binary_accuracy', min_delta=0, patience=0, verbose=0, mode='auto')\n",
    "history = model.fit(data, label, batch_size=200, epochs=10, verbose=1, callbacks=[es, lr_decay], validation_split=0.1, shuffle=True, class_weight=None, sample_weight=None, initial_epoch=0, steps_per_epoch=None, validation_steps=None)\n",
    "\n",
    "print(history.history.keys())\n",
    "# summarize history for accuracy\n",
    "plt.plot(history.history['val_acc'])\n",
    "plt.title('model validation accuracy')\n",
    "plt.ylabel('validation accuracy')\n",
    "plt.xlabel('epoch')\n",
    "plt.show()\n",
    "\n",
    "plt.plot(history.history['acc'])\n",
    "plt.title('model accuracy')\n",
    "plt.ylabel('accuracy')\n",
    "plt.xlabel('epoch')\n",
    "plt.show()\n",
    "\n",
    "# summarize history for loss\n",
    "plt.plot(history.history['val_loss'])\n",
    "plt.title('model validation loss')\n",
    "plt.ylabel('validation loss')\n",
    "plt.xlabel('epoch')\n",
    "plt.show()\n",
    "\n",
    "plt.plot(history.history['loss'])\n",
    "plt.title('model loss')\n",
    "plt.ylabel('loss')\n",
    "plt.xlabel('epoch')\n",
    "plt.show()"
   ]
  },
  {
   "cell_type": "code",
   "execution_count": null,
   "metadata": {},
   "outputs": [],
   "source": [
    "result = model.predict(test, batch_size=None, verbose=1)\n",
    "s=np.arange(result.shape[0]).astype(int)\n",
    "a= np.zeros((result.shape[0],2)) \n",
    "a= np.vstack([s,y.reshape(-1)])\n",
    "np.savetxt(\"prediction_rnn.csv\", a.T, delimiter=',', fmt='%i,%f', header=\"sample_id,malware\", comments=\"\")"
   ]
  }
 ],
 "metadata": {
  "kernelspec": {
   "display_name": "Python 3",
   "language": "python",
   "name": "python3"
  },
  "language_info": {
   "codemirror_mode": {
    "name": "ipython",
    "version": 3
   },
   "file_extension": ".py",
   "mimetype": "text/x-python",
   "name": "python",
   "nbconvert_exporter": "python",
   "pygments_lexer": "ipython3",
   "version": "3.6.3"
  }
 },
 "nbformat": 4,
 "nbformat_minor": 2
}
