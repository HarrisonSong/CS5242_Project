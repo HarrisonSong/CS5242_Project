{
 "cells": [
  {
   "cell_type": "code",
   "execution_count": 7,
   "metadata": {},
   "outputs": [
    {
     "name": "stdout",
     "output_type": "stream",
     "text": [
      "(499, 4096)\n",
      "(499,)\n"
     ]
    }
   ],
   "source": [
    "import pandas as pd\n",
    "import numpy as np\n",
    "\n",
    "data = pd.read_csv('sample_data.csv')\n",
    "label = pd.read_csv('sample_label.csv')\n",
    "print(data.shape)\n",
    "print(label['category'][1:].shape)"
   ]
  },
  {
   "cell_type": "code",
   "execution_count": 8,
   "metadata": {},
   "outputs": [
    {
     "ename": "NameError",
     "evalue": "name 'S' is not defined",
     "output_type": "error",
     "traceback": [
      "\u001b[0;31m---------------------------------------------------------------------------\u001b[0m",
      "\u001b[0;31mNameError\u001b[0m                                 Traceback (most recent call last)",
      "\u001b[0;32m<ipython-input-8-cd787b399ddf>\u001b[0m in \u001b[0;36m<module>\u001b[0;34m()\u001b[0m\n\u001b[1;32m     13\u001b[0m \u001b[0mdrop\u001b[0m \u001b[0;34m=\u001b[0m \u001b[0mSpatialDropout1D\u001b[0m\u001b[0;34m(\u001b[0m\u001b[0;36m0.2\u001b[0m\u001b[0;34m)\u001b[0m\u001b[0;34m(\u001b[0m\u001b[0memb\u001b[0m\u001b[0;34m)\u001b[0m\u001b[0;34m\u001b[0m\u001b[0m\n\u001b[1;32m     14\u001b[0m \u001b[0mhs\u001b[0m \u001b[0;34m=\u001b[0m \u001b[0;34m[\u001b[0m\u001b[0;34m]\u001b[0m \u001b[0;31m#hidden states from each LSTM layer stored here\u001b[0m\u001b[0;34m\u001b[0m\u001b[0m\n\u001b[0;32m---> 15\u001b[0;31m \u001b[0mhs\u001b[0m\u001b[0;34m.\u001b[0m\u001b[0mappend\u001b[0m\u001b[0;34m(\u001b[0m\u001b[0mLSTM\u001b[0m\u001b[0;34m(\u001b[0m\u001b[0mS\u001b[0m\u001b[0;34m,\u001b[0m \u001b[0mdropout_W\u001b[0m\u001b[0;34m=\u001b[0m\u001b[0;36m0.5\u001b[0m\u001b[0;34m,\u001b[0m \u001b[0mdropout_U\u001b[0m\u001b[0;34m=\u001b[0m\u001b[0;36m0.5\u001b[0m\u001b[0;34m,\u001b[0m \u001b[0mW_regularizer\u001b[0m\u001b[0;34m=\u001b[0m\u001b[0ml2\u001b[0m\u001b[0;34m(\u001b[0m\u001b[0;36m1e-5\u001b[0m\u001b[0;34m)\u001b[0m\u001b[0;34m,\u001b[0m \u001b[0mU_regularizer\u001b[0m\u001b[0;34m=\u001b[0m\u001b[0ml2\u001b[0m\u001b[0;34m(\u001b[0m\u001b[0;36m1e-5\u001b[0m\u001b[0;34m)\u001b[0m\u001b[0;34m,\u001b[0m \u001b[0mreturn_sequences\u001b[0m\u001b[0;34m=\u001b[0m\u001b[0;32mTrue\u001b[0m\u001b[0;34m)\u001b[0m\u001b[0;34m(\u001b[0m\u001b[0mdrop\u001b[0m\u001b[0;34m)\u001b[0m\u001b[0;34m)\u001b[0m\u001b[0;34m\u001b[0m\u001b[0m\n\u001b[0m\u001b[1;32m     16\u001b[0m \u001b[0;32mfor\u001b[0m \u001b[0ml\u001b[0m \u001b[0;32min\u001b[0m \u001b[0mrange\u001b[0m\u001b[0;34m(\u001b[0m\u001b[0;36m1\u001b[0m\u001b[0;34m,\u001b[0m \u001b[0mnum_layers\u001b[0m\u001b[0;34m)\u001b[0m\u001b[0;34m:\u001b[0m\u001b[0;34m\u001b[0m\u001b[0m\n\u001b[1;32m     17\u001b[0m     \u001b[0mhs\u001b[0m\u001b[0;34m.\u001b[0m\u001b[0mappend\u001b[0m\u001b[0;34m(\u001b[0m\u001b[0mLSTM\u001b[0m\u001b[0;34m(\u001b[0m\u001b[0mS\u001b[0m\u001b[0;34m,\u001b[0m \u001b[0mdropout_W\u001b[0m\u001b[0;34m=\u001b[0m\u001b[0;36m0.5\u001b[0m\u001b[0;34m,\u001b[0m \u001b[0mdropout_U\u001b[0m\u001b[0;34m=\u001b[0m\u001b[0;36m0.5\u001b[0m\u001b[0;34m,\u001b[0m \u001b[0mW_regularizer\u001b[0m\u001b[0;34m=\u001b[0m\u001b[0ml2\u001b[0m\u001b[0;34m(\u001b[0m\u001b[0;36m1e-5\u001b[0m\u001b[0;34m)\u001b[0m\u001b[0;34m,\u001b[0m \u001b[0mU_regularizer\u001b[0m\u001b[0;34m=\u001b[0m\u001b[0ml2\u001b[0m\u001b[0;34m(\u001b[0m\u001b[0;36m1e-5\u001b[0m\u001b[0;34m)\u001b[0m\u001b[0;34m,\u001b[0m \u001b[0mreturn_sequences\u001b[0m\u001b[0;34m=\u001b[0m\u001b[0;32mTrue\u001b[0m\u001b[0;34m)\u001b[0m\u001b[0;34m(\u001b[0m\u001b[0mhs\u001b[0m\u001b[0;34m[\u001b[0m\u001b[0;34m-\u001b[0m\u001b[0;36m1\u001b[0m\u001b[0;34m]\u001b[0m\u001b[0;34m)\u001b[0m\u001b[0;34m)\u001b[0m\u001b[0;34m\u001b[0m\u001b[0m\n",
      "\u001b[0;31mNameError\u001b[0m: name 'S' is not defined"
     ]
    }
   ],
   "source": [
    "from keras.layers import Embedding, ELU, Dropout, LSTM, Flatten, Input, Dense, BatchNormalization, SpatialDropout1D\n",
    "from keras.regularizers import l2, l1_l2\n",
    "from keras.optimizers import Adam\n",
    "from keras import Model\n",
    "import matplotlib.pyplot as plt\n",
    "import pandas as pd\n",
    "\n",
    "maxlen=4096\n",
    "embed_size=16\n",
    "\n",
    "main_input = Input(shape=(maxlen,), name='main_input')\n",
    "emb = Embedding(256, embed_size, input_length=maxlen, embeddings_regularizer=l2(1e-4))(main_input)\n",
    "drop = SpatialDropout1D(0.2)(emb)\n",
    "hs = [] #hidden states from each LSTM layer stored here \n",
    "hs.append(LSTM(S, dropout_W=0.5, dropout_U=0.5, W_regularizer=l2(1e-5), U_regularizer=l2(1e-5), return_sequences=True)(drop))\n",
    "for l in range(1, num_layers):\n",
    "    hs.append(LSTM(S, dropout_W=0.5, dropout_U=0.5, W_regularizer=l2(1e-5), U_regularizer=l2(1e-5), return_sequences=True)(hs[-1]))\n",
    "local_states = merge(hs, mode='concat')\n",
    "average_active = AverageAcrossTime()(local_states) # this produces h\n",
    "state_size = lstm_layer_size*num_layers \n",
    "\n",
    "# Attention mechanism starts here \n",
    "attn_cntx = merge([local_states, RepeatVector(maxlen)(average_active)], mode='concat')\n",
    "attn_cntx = TimeDistributed(Dense(lstm_layer_size, activation='linear', W_regularizer=l2(1e-4)))(attn_cntx) \n",
    "attn_cntx = TimeDistributed(BatchNormalization())(attn_cntx) \n",
    "attn_cntx = TimeDistributed(Activation('tanh'))(attn_cntx) \n",
    "attn_cntx = TimeDistributed(Dropout(0.5))(attn_cntx) \n",
    "\n",
    "attn = TimeDistributed(Dense(1, activation='linear', W_regularizer=l2(1e-4)))(attn_cntx)\n",
    "attn = Flatten()(attn)\n",
    "attn = Activation('softmax')(attn)\n",
    "attn = Reshape((maxlen, 1))(attn)\n",
    "attn = TileOut(state_size)(attn) #repeats value to make a specific shape\n",
    "\n",
    "final_context = merge([attn, local_states], mode='mul') \n",
    "final_context = SumAcrossTime()(final_context) # eq(2), Ti=1 αihi\n",
    "final_context = Dense(state_size, activation='linear', W_regularizer=l2(1e-4))(final_context) \n",
    "final_context = BatchNormalization()(final_context) \n",
    "final_context = Activation('tanh')(final_context) \n",
    "final_context = Dropout(0.5)(final_context) \n",
    "\n",
    "loss_out = Dense(1, activation='sigmoid', name='loss_out')(final_context)\n",
    "model = Model(inputs=[main_input], outputs=[loss_out]) \n",
    "optimizer = Adam(lr=0.001, clipnorm=1.0) \n",
    "model.compile(optimizer, loss='binary_crossentropy')\n",
    "\n",
    "model.fit(data, label['category'][1:], epochs=1, verbose=1)"
   ]
  }
 ],
 "metadata": {
  "kernelspec": {
   "display_name": "Python 3",
   "language": "python",
   "name": "python3"
  },
  "language_info": {
   "codemirror_mode": {
    "name": "ipython",
    "version": 3
   },
   "file_extension": ".py",
   "mimetype": "text/x-python",
   "name": "python",
   "nbconvert_exporter": "python",
   "pygments_lexer": "ipython3",
   "version": "3.6.3"
  }
 },
 "nbformat": 4,
 "nbformat_minor": 2
}
