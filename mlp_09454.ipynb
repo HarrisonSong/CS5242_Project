{
 "cells": [
  {
   "cell_type": "code",
   "execution_count": 3,
   "metadata": {},
   "outputs": [
    {
     "name": "stdout",
     "output_type": "stream",
     "text": [
      "(113636, 4096)\n"
     ]
    }
   ],
   "source": [
    "%matplotlib inline\n",
    "from keras import *\n",
    "from keras.layers import *\n",
    "from keras import regularizers\n",
    "import matplotlib.pyplot as plt\n",
    "import numpy as np\n",
    "import pandas as pd\n",
    "from keras.preprocessing import image\n",
    "from keras.models import Model\n",
    "from keras.layers import Input, Dense\n",
    "from keras.optimizers import SGD, RMSprop, Adam\n",
    "from keras.callbacks import LearningRateScheduler, TensorBoard\n",
    "from sklearn.neural_network import MLPClassifier\n",
    "from sklearn.ensemble import GradientBoostingClassifier\n",
    "df_train = pd.read_csv(\"train.csv\",header=None,delimiter=',',dtype='float64',names=list(range(4096))).fillna(0)\n",
    "X_train = df_train.get_values()\n",
    "df_label = pd.read_csv(\"train_label.csv\",delimiter=',')\n",
    "Y_train = df_label['category'].get_values()\n",
    "Y_train = Y_train.reshape(-1,1)\n",
    "print(X_train.shape)\n"
   ]
  },
  {
   "cell_type": "code",
   "execution_count": 15,
   "metadata": {},
   "outputs": [
    {
     "name": "stderr",
     "output_type": "stream",
     "text": [
      "/home/ubuntu/anaconda3/envs/tensorflow_p36/lib/python3.6/site-packages/ipykernel_launcher.py:44: UserWarning: Update your `Model` call to the Keras 2 API: `Model(inputs=[<tf.Tenso..., outputs=[<tf.Tenso...)`\n"
     ]
    },
    {
     "name": "stdout",
     "output_type": "stream",
     "text": [
      "_________________________________________________________________\n",
      "Layer (type)                 Output Shape              Param #   \n",
      "=================================================================\n",
      "main_input (InputLayer)      (None, 4096)              0         \n",
      "_________________________________________________________________\n",
      "embedding_10 (Embedding)     (None, 4096, 128)         32768     \n",
      "_________________________________________________________________\n",
      "flatten_10 (Flatten)         (None, 524288)            0         \n",
      "_________________________________________________________________\n",
      "dense_37 (Dense)             (None, 100)               52428900  \n",
      "_________________________________________________________________\n",
      "batch_normalization_37 (Batc (None, 100)               400       \n",
      "_________________________________________________________________\n",
      "elu_37 (ELU)                 (None, 100)               0         \n",
      "_________________________________________________________________\n",
      "dropout_37 (Dropout)         (None, 100)               0         \n",
      "_________________________________________________________________\n",
      "dense_38 (Dense)             (None, 100)               10100     \n",
      "_________________________________________________________________\n",
      "batch_normalization_38 (Batc (None, 100)               400       \n",
      "_________________________________________________________________\n",
      "elu_38 (ELU)                 (None, 100)               0         \n",
      "_________________________________________________________________\n",
      "dropout_38 (Dropout)         (None, 100)               0         \n",
      "_________________________________________________________________\n",
      "dense_39 (Dense)             (None, 100)               10100     \n",
      "_________________________________________________________________\n",
      "batch_normalization_39 (Batc (None, 100)               400       \n",
      "_________________________________________________________________\n",
      "elu_39 (ELU)                 (None, 100)               0         \n",
      "_________________________________________________________________\n",
      "dropout_39 (Dropout)         (None, 100)               0         \n",
      "_________________________________________________________________\n",
      "dense_40 (Dense)             (None, 100)               10100     \n",
      "_________________________________________________________________\n",
      "batch_normalization_40 (Batc (None, 100)               400       \n",
      "_________________________________________________________________\n",
      "elu_40 (ELU)                 (None, 100)               0         \n",
      "_________________________________________________________________\n",
      "dropout_40 (Dropout)         (None, 100)               0         \n",
      "_________________________________________________________________\n",
      "loss_out (Dense)             (None, 1)                 101       \n",
      "=================================================================\n",
      "Total params: 52,493,669\n",
      "Trainable params: 52,492,869\n",
      "Non-trainable params: 800\n",
      "_________________________________________________________________\n",
      "None\n",
      "Epoch 1/8\n",
      "113636/113636 [==============================] - 141s 1ms/step - loss: 0.3264 - mean_squared_error: 0.0541 - acc: 0.9286\n",
      "Epoch 2/8\n",
      "lr changed to 0.000800000037997961\n",
      "113636/113636 [==============================] - 134s 1ms/step - loss: 0.2422 - mean_squared_error: 0.0275 - acc: 0.9647\n",
      "Epoch 3/8\n",
      "lr changed to 0.0006400000303983689\n",
      "113636/113636 [==============================] - 134s 1ms/step - loss: 0.2063 - mean_squared_error: 0.0223 - acc: 0.9714\n",
      "Epoch 4/8\n",
      "lr changed to 0.0005120000336319208\n",
      "113636/113636 [==============================] - 134s 1ms/step - loss: 0.1923 - mean_squared_error: 0.0195 - acc: 0.9748\n",
      "Epoch 5/8\n",
      "lr changed to 0.00040960004553198815\n",
      "113636/113636 [==============================] - 134s 1ms/step - loss: 0.1701 - mean_squared_error: 0.0166 - acc: 0.9785\n",
      "Epoch 6/8\n",
      "lr changed to 0.00032768002711236477\n",
      "113636/113636 [==============================] - 134s 1ms/step - loss: 0.1475 - mean_squared_error: 0.0146 - acc: 0.9810\n",
      "Epoch 7/8\n",
      "lr changed to 0.0002621440216898918\n",
      "113636/113636 [==============================] - 134s 1ms/step - loss: 0.1272 - mean_squared_error: 0.0128 - acc: 0.9833\n",
      "Epoch 8/8\n",
      "lr changed to 0.00020971521735191345\n",
      "113636/113636 [==============================] - 134s 1ms/step - loss: 0.1144 - mean_squared_error: 0.0106 - acc: 0.9865\n",
      "(133223, 4096)\n"
     ]
    }
   ],
   "source": [
    "maxlen = 4096\n",
    "embed_size = 128\n",
    "def scheduler(epoch):\n",
    "    if epoch%1==0 and epoch!=0:\n",
    "        lr = K.get_value(model.optimizer.lr)\n",
    "        K.set_value(model.optimizer.lr, lr*.8)\n",
    "        print(\"lr changed to {}\".format(lr*.8))\n",
    "    return K.get_value(model.optimizer.lr)\n",
    "\n",
    "lr_decay = LearningRateScheduler(scheduler)\n",
    "\n",
    "main_input = Input(shape=(maxlen,), dtype='float64',name='main_input')\n",
    "emb = Embedding(256, embed_size, input_length=maxlen,embeddings_regularizer=regularizers.l2(1e-4))(main_input)\n",
    "x = Flatten()(emb)\n",
    "\n",
    "x = Dense(100, activation='linear',kernel_regularizer=regularizers.l2(1e-4))(x)\n",
    "x = BatchNormalization()(x)\n",
    "x = ELU()(x)\n",
    "x = Dropout(0.5)(x)\n",
    "\n",
    "x = Dense(100, activation='linear',kernel_regularizer=regularizers.l2(1e-4))(x)\n",
    "x = BatchNormalization()(x)\n",
    "x = ELU()(x)\n",
    "x = Dropout(0.5)(x)\n",
    "\n",
    "x = Dense(100, activation='linear',kernel_regularizer=regularizers.l2(1e-4))(x)\n",
    "x = BatchNormalization()(x)\n",
    "x = ELU()(x)\n",
    "x = Dropout(0.5)(x)\n",
    "\n",
    "x = Dense(100, activation='linear',kernel_regularizer=regularizers.l2(1e-4))(x)\n",
    "x = BatchNormalization()(x)\n",
    "x = ELU()(x)\n",
    "x = Dropout(0.5)(x)\n",
    "\n",
    "#num_layers = 4\n",
    "#for i in range(num_layers):\n",
    "    #x = Dense(10, activation='linear',kernel_regularizer=regularizers.l2(1e-4))(x)\n",
    "    #x = BatchNormalization()(x)\n",
    "    #x = ELU()(x)\n",
    "    #x = Dropout(0.5)(x)\n",
    "\n",
    "loss_out = Dense(1, activation='sigmoid',name='loss_out')(x)\n",
    "model = Model(input=[main_input], output=[loss_out])\n",
    "optimizer = Adam(lr=0.001)#RMSprop(lr=0.01)\n",
    "model.compile(optimizer, loss='binary_crossentropy',metrics=['mse', 'accuracy'])\n",
    "print(model.summary())\n",
    "history = model.fit(x=X_train, y=Y_train, batch_size=200, epochs=8, verbose=1, callbacks=[lr_decay], validation_split=0.0, validation_data=None, shuffle=True, class_weight=None, sample_weight=None, initial_epoch=0, steps_per_epoch=None, validation_steps=None)\n",
    "\n",
    "x_test = pd.read_csv(\"test.csv\",header=None,delimiter=',',dtype='float64',names=list(range(4096))).fillna(0)\n",
    "X_test = df_train.get_values()\n",
    "print(x_test.shape)\n",
    "\n"
   ]
  },
  {
   "cell_type": "code",
   "execution_count": null,
   "metadata": {},
   "outputs": [],
   "source": [
    "y=model.predict(x_test, batch_size=None, verbose=0, steps=None)\n",
    "#y[y>=0.5]=1\n",
    "#y=y.astype(int)\n",
    "print(y.shape[0])\n",
    "\n",
    "s=np.arange(y.shape[0]).astype(int)\n",
    "a= np.zeros((y.shape[0],2)) \n",
    "a= np.vstack([s,y.reshape(-1)])\n",
    "print(a.T)\n",
    "np.savetxt(\"out.csv\", a.T, delimiter=',', fmt='%i,%f', header=\"sample_id,malware\", comments=\"\")\n",
    "print(\"finish\")"
   ]
  },
  {
   "cell_type": "code",
   "execution_count": 10,
   "metadata": {},
   "outputs": [
    {
     "name": "stdout",
     "output_type": "stream",
     "text": [
      "{'loss': [0.3982517058034688, 0.235020030365813], 'mean_squared_error': [0.11319923784436023, 0.04613613258422957], 'acc': [0.8469147104291974, 0.9508782388827521]}\n"
     ]
    }
   ],
   "source": [
    "print(history.history)"
   ]
  },
  {
   "cell_type": "code",
   "execution_count": null,
   "metadata": {
    "collapsed": true
   },
   "outputs": [],
   "source": []
  }
 ],
 "metadata": {
  "kernelspec": {
   "display_name": "Python 3",
   "language": "python",
   "name": "python3"
  },
  "language_info": {
   "codemirror_mode": {
    "name": "ipython",
    "version": 3
   },
   "file_extension": ".py",
   "mimetype": "text/x-python",
   "name": "python",
   "nbconvert_exporter": "python",
   "pygments_lexer": "ipython3",
   "version": "3.6.4"
  }
 },
 "nbformat": 4,
 "nbformat_minor": 2
}
