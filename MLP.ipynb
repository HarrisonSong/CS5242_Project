{
 "cells": [
  {
   "cell_type": "code",
   "execution_count": 11,
   "metadata": {},
   "outputs": [],
   "source": [
    "#import matplotlib.pyplot as plt\n",
    "from keras.layers import Embedding, ELU, Dropout, Flatten, Input, Dense, BatchNormalization\n",
    "from keras.regularizers import l2, l1_l2\n",
    "from keras.optimizers import Adam, Nadam\n",
    "from keras.callbacks import EarlyStopping\n",
    "from keras import Model\n",
    "import matplotlib.pyplot as plt\n",
    "from keras.utils.np_utils import to_categorical\n",
    "import pandas as pd\n",
    "import numpy as np\n",
    "\n",
    "data = pd.read_csv(\"sample_data.csv\",header=None,dtype='float64',names=list(range(4096))).fillna(0)\n",
    "test = pd.read_csv('sample_data.csv',header=None,dtype='float64',names=list(range(4096))).fillna(0)\n",
    "label = pd.read_csv('sample_label.csv')['category'].values.reshape(-1, 1)\n"
   ]
  },
  {
   "cell_type": "code",
   "execution_count": 12,
   "metadata": {},
   "outputs": [
    {
     "name": "stdout",
     "output_type": "stream",
     "text": [
      "Epoch 1/4\n",
      "500/500 [==============================] - 3s 6ms/step - loss: 0.9043 - binary_accuracy: 0.5300\n",
      "Epoch 2/4\n",
      "500/500 [==============================] - 0s 368us/step - loss: 0.7939 - binary_accuracy: 0.5540\n",
      "Epoch 3/4\n",
      "500/500 [==============================] - 0s 367us/step - loss: 0.8025 - binary_accuracy: 0.5640\n",
      "Epoch 4/4\n",
      "500/500 [==============================] - 0s 378us/step - loss: 0.7824 - binary_accuracy: 0.5440\n",
      "500/500 [==============================] - 0s 959us/step\n"
     ]
    }
   ],
   "source": [
    "maxlen=4096\n",
    "embed_size=16\n",
    "main_input = Input(shape=(maxlen,), dtype='float64', name='main_input')\n",
    "emb = Embedding(256, embed_size, input_length=maxlen, embeddings_regularizer=l2(1e-4))(main_input)\n",
    "#emb = Dropout(0.2)(emb)\n",
    "x = Flatten()(emb)\n",
    "num_layers = 4\n",
    "for i in range(num_layers):\n",
    "    W_reg = l2(1e-4)\n",
    "    if i == 0:\n",
    "        W_reg = l2(1e-4)\n",
    "    x = Dense(10, activation='linear', kernel_regularizer=W_reg)(x) \n",
    "    x = BatchNormalization()(x) \n",
    "    x = ELU()(x)\n",
    "#     if i == num_layers-1:\n",
    "#         x = DeCovRegularization(0.1)(x)\n",
    "    x = Dropout(0.5)(x)\n",
    "    \n",
    "loss_out = Dense(1, activation='sigmoid',  name='loss_out')(x)\n",
    "model = Model(inputs=[main_input], outputs=[loss_out])\n",
    "optimizer = Adam(lr=0.001, decay=0.5)\n",
    "model.compile(optimizer, loss='binary_crossentropy', metrics=['binary_accuracy'])\n",
    "\n",
    "es = EarlyStopping(monitor='binary_accuracy', min_delta=0, patience=0, verbose=0, mode='auto')\n",
    "model.fit(data, label, batch_size=200, epochs=4, verbose=1, callbacks=[es])\n",
    "result = model.predict(test, batch_size=200, verbose=1)\n",
    "\n",
    "# output = []\n",
    "# for item in result:\n",
    "#     if item >= 0.5:\n",
    "#         output.append(1)\n",
    "#     else:\n",
    "#         output.append(0)      \n",
    "prediction = pd.DataFrame({'malware': result[:,0]})\n",
    "prediction.to_csv('prediction.csv', index=True,header=True)\n"
   ]
  },
  {
   "cell_type": "code",
   "execution_count": null,
   "metadata": {},
   "outputs": [],
   "source": []
  }
 ],
 "metadata": {
  "kernelspec": {
   "display_name": "Python 3",
   "language": "python",
   "name": "python3"
  },
  "language_info": {
   "codemirror_mode": {
    "name": "ipython",
    "version": 3
   },
   "file_extension": ".py",
   "mimetype": "text/x-python",
   "name": "python",
   "nbconvert_exporter": "python",
   "pygments_lexer": "ipython3",
   "version": "3.6.3"
  }
 },
 "nbformat": 4,
 "nbformat_minor": 2
}
