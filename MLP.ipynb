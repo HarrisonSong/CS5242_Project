{
 "cells": [
  {
   "cell_type": "code",
   "execution_count": 3,
   "metadata": {},
   "outputs": [
    {
     "name": "stdout",
     "output_type": "stream",
     "text": [
      "(500, 4096)\n",
      "(500, 1)\n"
     ]
    }
   ],
   "source": [
    "#import matplotlib.pyplot as plt\n",
    "import pandas as pd\n",
    "import numpy as np\n",
    "data = pd.read_csv(\"sample_data.csv\",header=None,dtype='float64',names=list(range(4096))).fillna(0)\n",
    "label = pd.read_csv('sample_label.csv')['category'].values.reshape(-1, 1)\n",
    "test = pd.read_csv('test.csv',header=None,dtype='float64',names=list(range(4096))).fillna(0))\n",
    "print(data.shape)\n",
    "print(label.shape)\n",
    "print(test.shape)"
   ]
  },
  {
   "cell_type": "code",
   "execution_count": 4,
   "metadata": {},
   "outputs": [
    {
     "name": "stdout",
     "output_type": "stream",
     "text": [
      "Epoch 1/10\n",
      "500/500 [==============================] - 9s 19ms/step - loss: 0.8372 - mean_squared_error: 0.2728 - binary_accuracy: 0.5800\n",
      "Epoch 2/10\n",
      "500/500 [==============================] - 7s 13ms/step - loss: 0.7181 - mean_squared_error: 0.2237 - binary_accuracy: 0.6760\n",
      "Epoch 3/10\n",
      "500/500 [==============================] - 6s 13ms/step - loss: 0.5536 - mean_squared_error: 0.1601 - binary_accuracy: 0.7860\n",
      "Epoch 4/10\n",
      "500/500 [==============================] - 7s 13ms/step - loss: 0.4456 - mean_squared_error: 0.1237 - binary_accuracy: 0.8160\n",
      "Epoch 5/10\n",
      "500/500 [==============================] - 6s 13ms/step - loss: 0.3672 - mean_squared_error: 0.0913 - binary_accuracy: 0.8700\n",
      "Epoch 6/10\n",
      "500/500 [==============================] - 6s 13ms/step - loss: 0.3037 - mean_squared_error: 0.0723 - binary_accuracy: 0.8960\n",
      "Epoch 7/10\n",
      "500/500 [==============================] - 7s 14ms/step - loss: 0.2920 - mean_squared_error: 0.0666 - binary_accuracy: 0.9140\n",
      "Epoch 8/10\n",
      "500/500 [==============================] - 7s 13ms/step - loss: 0.2668 - mean_squared_error: 0.0619 - binary_accuracy: 0.9040\n",
      "Epoch 9/10\n",
      "500/500 [==============================] - 6s 13ms/step - loss: 0.1836 - mean_squared_error: 0.0313 - binary_accuracy: 0.9600\n",
      "Epoch 10/10\n",
      "500/500 [==============================] - 7s 13ms/step - loss: 0.1805 - mean_squared_error: 0.0317 - binary_accuracy: 0.9600\n"
     ]
    },
    {
     "data": {
      "text/plain": [
       "<keras.callbacks.History at 0x123b0aa20>"
      ]
     },
     "execution_count": 4,
     "metadata": {},
     "output_type": "execute_result"
    }
   ],
   "source": [
    "from keras.layers import Embedding, ELU, Dropout, Flatten, Input, Dense, BatchNormalization, SpatialDropout1D\n",
    "from keras.regularizers import l2, l1_l2\n",
    "from keras.optimizers import Adam\n",
    "from keras import Model\n",
    "import matplotlib.pyplot as plt\n",
    "import pandas as pd\n",
    "import numpy as np\n",
    "\n",
    "maxlen=4096\n",
    "embed_size=16\n",
    "main_input = Input(shape=(maxlen,), dtype='float64', name='main_input')\n",
    "emb = Embedding(256, embed_size, input_length=maxlen, embeddings_regularizer=l2(1e-4))(main_input)\n",
    "#emb = Dropout(0.2)(emb)\n",
    "x = Flatten()(emb)\n",
    "num_layers = 4\n",
    "for i in range(num_layers):\n",
    "    W_reg = l2(1e-4)\n",
    "    if i == 0:\n",
    "        W_reg = l2(1e-4)\n",
    "    x = Dense(100, activation='linear', kernel_regularizer=W_reg)(x) \n",
    "    x = BatchNormalization()(x) \n",
    "    x = ELU()(x)\n",
    "#     if i == num_layers-1:\n",
    "#         x = DeCovRegularization(0.1)(x)\n",
    "    x = Dropout(0.5)(x)\n",
    "    \n",
    "loss_out = Dense(1, activation='sigmoid',  name='loss_out')(x)\n",
    "model = Model(inputs=[main_input], outputs=[loss_out])\n",
    "optimizer = Adam(lr=0.001)\n",
    "model.compile(optimizer, loss='binary_crossentropy', metrics=['mse', 'binary_accuracy'])\n",
    "\n",
    "model.fit(data, label, batch_size=20, epochs=10, verbose=1)\n",
    "result = model.predict(test, batch_size=20, verbose=1)\n",
    "np.savetxt(\"prediction.csv\", result, delimiter=\",\")"
   ]
  },
  {
   "cell_type": "code",
   "execution_count": null,
   "metadata": {},
   "outputs": [],
   "source": []
  }
 ],
 "metadata": {
  "kernelspec": {
   "display_name": "Python 3",
   "language": "python",
   "name": "python3"
  },
  "language_info": {
   "codemirror_mode": {
    "name": "ipython",
    "version": 3
   },
   "file_extension": ".py",
   "mimetype": "text/x-python",
   "name": "python",
   "nbconvert_exporter": "python",
   "pygments_lexer": "ipython3",
   "version": "3.6.3"
  }
 },
 "nbformat": 4,
 "nbformat_minor": 2
}
