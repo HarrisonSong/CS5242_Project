{
 "cells": [
  {
   "cell_type": "code",
   "execution_count": null,
   "metadata": {},
   "outputs": [],
   "source": [
    "import matplotlib.pyplot as plt\n",
    "from sklearn.neural_network import MLPClassifier\n",
    "import pandas as pd\n",
    "import numpy as np\n",
    "\n",
    "X = pd.read_csv('sample_data.csv',header=None,dtype='float',names=list(range(4096))).fillna(0)\n",
    "#test = pd.read_csv('test.csv',header=None,dtype='float',names=list(range(4096))).fillna(0)\n",
    "y = pd.read_csv('sample_label.csv')['category']\n",
    "\n",
    "params = [{'solver': 'adam', 'learning_rate_init': 0.001, 'learning_rate': 'invscaling'}]\n",
    "\n",
    "labels = [\"adam\"]\n",
    "\n",
    "print(X.shape)\n",
    "print(y.shape)"
   ]
  },
  {
   "cell_type": "code",
   "execution_count": null,
   "metadata": {},
   "outputs": [],
   "source": [
    "mlps = []\n",
    "max_iter = 200\n",
    "layer_size = data.shape[1]\n",
    "\n",
    "for label, param in zip(labels, params):\n",
    "    print(\"MLP training: %s\" % label)\n",
    "    mlp = MLPClassifier(verbose=1, hidden_layer_sizes=(layer_size,), batch_size=20, random_state=0,\n",
    "                        max_iter=max_iter, **param)\n",
    "    mlp.n_layers_ = 4\n",
    "    mlp.n_iter_ = data.shape[0]\n",
    "    mlp.fit(X, y)\n",
    "    mlps.append(mlp)\n",
    "    print(label)\n",
    "    print(\"MLP Training set score: %f\" % mlp.score(X, y))\n",
    "    print(\"MLP Training set loss: %f\" % mlp.loss_)\n",
    "# for mlp, label, args in zip(mlps, labels, plot_args):\n",
    "#         ax.plot(mlp.loss_curve_, label=label, **args)"
   ]
  }
 ],
 "metadata": {
  "kernelspec": {
   "display_name": "Python 3",
   "language": "python",
   "name": "python3"
  },
  "language_info": {
   "codemirror_mode": {
    "name": "ipython",
    "version": 3
   },
   "file_extension": ".py",
   "mimetype": "text/x-python",
   "name": "python",
   "nbconvert_exporter": "python",
   "pygments_lexer": "ipython3",
   "version": "3.6.3"
  }
 },
 "nbformat": 4,
 "nbformat_minor": 2
}
