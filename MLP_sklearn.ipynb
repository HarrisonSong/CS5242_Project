{
 "cells": [
  {
   "cell_type": "code",
   "execution_count": 9,
   "metadata": {},
   "outputs": [
    {
     "name": "stdout",
     "output_type": "stream",
     "text": [
      "(500, 4096)\n",
      "(500,)\n"
     ]
    }
   ],
   "source": [
    "import matplotlib.pyplot as plt\n",
    "from sklearn.neural_network import MLPClassifier\n",
    "import pandas as pd\n",
    "import numpy as np\n",
    "\n",
    "X = pd.read_csv('sample_data.csv',header=None,dtype='float',names=list(range(4096))).fillna(0)\n",
    "test = pd.read_csv('sample_data.csv',header=None,dtype='float',names=list(range(4096))).fillna(0)\n",
    "y = pd.read_csv('sample_label.csv')['category']\n",
    "\n",
    "param = {'solver': 'adam', 'learning_rate_init': 0.001, 'learning_rate': 'invscaling'}\n",
    "\n",
    "label = [\"adam\"]\n",
    "\n",
    "print(X.shape)\n",
    "print(y.shape)"
   ]
  },
  {
   "cell_type": "code",
   "execution_count": 10,
   "metadata": {},
   "outputs": [
    {
     "name": "stdout",
     "output_type": "stream",
     "text": [
      "MLP training: ['adam']\n",
      "Iteration 1, loss = 5.18249507\n",
      "Iteration 2, loss = 1.50999025\n",
      "Iteration 3, loss = 0.70236419\n",
      "Iteration 4, loss = 0.37951389\n",
      "Iteration 5, loss = 0.14716191\n",
      "Iteration 6, loss = 0.07177969\n",
      "Iteration 7, loss = 0.09352788\n",
      "Iteration 8, loss = 0.07880338\n",
      "Iteration 9, loss = 0.02988701\n",
      "Iteration 10, loss = 0.04502595\n",
      "Iteration 11, loss = 0.02487376\n",
      "Iteration 12, loss = 0.01358982\n",
      "Iteration 13, loss = 0.00765318\n",
      "Iteration 14, loss = 0.00101519\n",
      "Iteration 15, loss = 0.00105643\n",
      "Iteration 16, loss = 0.00092968\n",
      "Iteration 17, loss = 0.00115169\n",
      "Training loss did not improve more than tol=0.000100 for two consecutive epochs. Stopping.\n",
      "['adam']\n",
      "MLP Training set score: 1.000000\n",
      "MLP Training set loss: 0.001152\n"
     ]
    }
   ],
   "source": [
    "max_iter = 200\n",
    "layer_size = X.shape[1]\n",
    "\n",
    "print(\"MLP training: %s\" % label)\n",
    "mlp = MLPClassifier(verbose=1, hidden_layer_sizes=(100,), batch_size=20, random_state=0,\n",
    "                    max_iter=max_iter, **param)\n",
    "mlp.n_layers_ = 4\n",
    "mlp.n_iter_ = X.shape[0]\n",
    "mlp.fit(X, y)\n",
    "print(label)\n",
    "print(\"MLP Training set score: %f\" % mlp.score(X, y))\n",
    "print(\"MLP Training set loss: %f\" % mlp.loss_)\n",
    "prediction = pd.DataFrame({'category': mlp.predict(test)})\n",
    "prediction.to_csv('prediction.csv', index=True,header=True)\n",
    "#ax.plot(mlp.loss_curve_, label=label, **args)"
   ]
  }
 ],
 "metadata": {
  "kernelspec": {
   "display_name": "Python 3",
   "language": "python",
   "name": "python3"
  },
  "language_info": {
   "codemirror_mode": {
    "name": "ipython",
    "version": 3
   },
   "file_extension": ".py",
   "mimetype": "text/x-python",
   "name": "python",
   "nbconvert_exporter": "python",
   "pygments_lexer": "ipython3",
   "version": "3.6.3"
  }
 },
 "nbformat": 4,
 "nbformat_minor": 2
}
